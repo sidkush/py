{
 "cells": [
  {
   "cell_type": "markdown",
   "metadata": {},
   "source": [
    "### 8.Recall the problem when you kept prompting the user to withdraw money from the wallet to start the game. Integrate this program with the one you have written for problem 7.\n",
    "#### a. For this problem, consider that the minimum balance to start the game is Rs.500.\n",
    "#### b. After one game is over add/deduct money from the account.\n",
    "#### c. Prompt the user if he/she would like to play one more time.\n",
    "#### i. If the user says “Yes” then check if the user has enough balance to play the game again. If not prompt the user to withdraw money from his wallet before the program starts the game. When the balance will be greater than Rs. 500 the program will automatically start the game.\n",
    "#### ii. If the user says “No”, then stop the game with a message “Have a wonderful day!”\n",
    "\n",
    "    \n",
    "\n",
    "\n"
   ]
  },
  {
   "cell_type": "code",
   "execution_count": null,
   "metadata": {},
   "outputs": [
    {
     "name": "stdout",
     "output_type": "stream",
     "text": [
      "Enter your wallet amount:5000\n",
      "Enter amount to start the game:400\n",
      "Sorry! need more : 100\n",
      "How much would you like to withdraw? :100\n",
      "Your wallet amount is: 4900\n",
      "Lets play the game!!\n",
      "Guess a number between 1 and 10:6\n",
      "Oops!! number is too large\n",
      "Guess a number between 1 and 10:3\n",
      "Oops!! number is too small\n",
      "Guess a number between 1 and 10:5\n",
      "Hurray!! you won 1000 cash prize\n",
      "Your new balance is: 5900\n"
     ]
    }
   ],
   "source": [
    "import random                                           #import random to play the game\n",
    "amt1=int(input(\"Enter your wallet amount:\"))\n",
    "withdraw=int()\n",
    "start=1                                                # to play the game as many times as you want\n",
    "guess=0                                                #initialise guess to 0\n",
    "n=10                                                   #choose numbers from 1 to 10\n",
    "to_be_guessed= int(random.randint(1,10))              #the number to be guessed should be between 1 to 10   \n",
    "attempt=0                                           #number of attempts is initialised to 0\n",
    "\n",
    "def game1(guess,amt1,to_be_guessed,attempt):        #user defined function for game                     \n",
    "         \n",
    "    while guess != to_be_guessed:                   #if guess is not equal to the number that has to be guessed\n",
    "        guess=int(input(\"Guess a number between 1 and 10:\"))             # guess any number\n",
    "        if guess>0:      \n",
    "            if guess > to_be_guessed:           \n",
    "                print(\"Oops!! number is too large\")\n",
    "            elif guess < to_be_guessed:\n",
    "                print(\"Oops!! number is too small\")   \n",
    "       \n",
    "        if attempt==3:                            #if attempts are 4 then you will lose\n",
    "            print(\"Sorry you have Lost!\")\n",
    "            amt1=amt1-500                         #if lost, 500 will be deducted from wallet amount\n",
    "            print(\"Amount remaining in wallet:\",amt1)\n",
    "            return amt1\n",
    "        if attempt==0:                            #if your guess is correct for the 1st attempt\n",
    "            if(guess==to_be_guessed):\n",
    "                print(\"Party!! you won 5000 cash prize\")\n",
    "                amt1=amt1+5000                   #5000 rupees will be added to wallet amount\n",
    "                print(\"Your new balance is:\",amt1)\n",
    "                return amt1\n",
    "        elif attempt<=2:                          #if you have guessed correctly in 3 attempts then 1000 will be added to wallet\n",
    "            if(guess==to_be_guessed):\n",
    "                print(\"Hurray!! you won 1000 cash prize\")\n",
    "                #print(\"amt1:\",amt1)\n",
    "                amt1=amt1+1000\n",
    "                print(\"Your new balance is:\",amt1)\n",
    "                return amt1\n",
    "        attempt+=1\n",
    "    else:\n",
    "        print(\"Congrats\")\n",
    "        return amt1                             #wallet amount will be carried to the next operation\n",
    "\n",
    "    return amt1\n",
    "def wallet(amt1):                             #user defined function to withdraw money from wallet to start the game\n",
    "    \n",
    "    count=0                                   #initialise count to 0\n",
    "    amt=int(input(\"Enter amount to start the game:\"))         #enter amount in your balance                                                                \n",
    "    \n",
    "    while amt < 500:\n",
    "        count=count+1                        #balance should not be less than 500 to start the game\n",
    "        if count ==1:                        #code to check the balance                                                     \n",
    "            print(\"Sorry! need more :\",500-amt)\n",
    "        else:\n",
    "             print(\"Insufficient funds\")\n",
    "        withdraw=int(input(\"How much would you like to withdraw? :\"))         # add money to your balance from wallet                                        \n",
    "        amt=amt+withdraw\n",
    "        amt1=amt1-withdraw\n",
    "        \n",
    "       # print(\"Now your balance is:\",amt)        #it will display your balance and wallet amount                 \n",
    "        print(\"Your wallet amount is:\",amt1)\n",
    "    print(\"Lets play the game!!\")\n",
    "    return amt1                                    #returning wallet amount\n",
    "amt1=wallet(amt1)                                  #calling wallet function\n",
    "#print(\"amt1 before calling game1:\",amt1)           \n",
    "amt1=game1(guess,amt1,to_be_guessed,attempt)       #calling game1 function\n",
    "\n",
    "while(start!=0):\n",
    "    decision=input(\"Enter y/n if you want to play again:\") #option to play the game again\n",
    "    if(decision=='y'):\n",
    "   \n",
    "        amt1=wallet(amt1)\n",
    "        amt1=game1(guess,amt1,to_be_guessed,0)\n",
    "        start=1\n",
    "    \n",
    "    else:\n",
    "        print(\"Have a wonderful day\")\n",
    "        start=0\n",
    "        exit\n"
   ]
  },
  {
   "cell_type": "code",
   "execution_count": null,
   "metadata": {
    "collapsed": true
   },
   "outputs": [],
   "source": []
  },
  {
   "cell_type": "code",
   "execution_count": null,
   "metadata": {
    "collapsed": true
   },
   "outputs": [],
   "source": []
  }
 ],
 "metadata": {
  "kernelspec": {
   "display_name": "Python 3",
   "language": "python",
   "name": "python3"
  },
  "language_info": {
   "codemirror_mode": {
    "name": "ipython",
    "version": 3
   },
   "file_extension": ".py",
   "mimetype": "text/x-python",
   "name": "python",
   "nbconvert_exporter": "python",
   "pygments_lexer": "ipython3",
   "version": "3.6.3"
  }
 },
 "nbformat": 4,
 "nbformat_minor": 2
}
